{
 "cells": [
  {
   "cell_type": "markdown",
   "metadata": {},
   "source": [
    "# Import libraries"
   ]
  },
  {
   "cell_type": "code",
   "execution_count": 1,
   "metadata": {},
   "outputs": [],
   "source": [
    "import pandas as pd\n",
    "import numpy as np\n",
    "\n",
    "from sklearn.preprocessing import MinMaxScaler\n",
    "from sklearn.linear_model import LogisticRegression\n",
    "from sklearn.preprocessing import MinMaxScaler\n",
    "\n",
    "from binance.client import Client"
   ]
  },
  {
   "cell_type": "markdown",
   "metadata": {},
   "source": [
    "# Connect to API"
   ]
  },
  {
   "cell_type": "code",
   "execution_count": 2,
   "metadata": {},
   "outputs": [],
   "source": [
    "client = Client('key',\n",
    "                'secret-key')"
   ]
  },
  {
   "cell_type": "markdown",
   "metadata": {},
   "source": [
    "# Get data"
   ]
  },
  {
   "cell_type": "code",
   "execution_count": 3,
   "metadata": {},
   "outputs": [],
   "source": [
    "ethbtc_klines = client.get_historical_klines('ETHBTC', Client.KLINE_INTERVAL_1HOUR, \"100 days ago UTC\")"
   ]
  },
  {
   "cell_type": "markdown",
   "metadata": {},
   "source": [
    "# Prepare Dataset"
   ]
  },
  {
   "cell_type": "code",
   "execution_count": 4,
   "metadata": {},
   "outputs": [],
   "source": [
    "kline_columns = ['OpenTime', 'Open', 'High', 'Low', 'Close',\n",
    "                 'Volume', 'CloseTime', 'QuoteAssetVolume',\n",
    "                 'NumberOfTrades', 'TakerBuyBaseAssetVolume',\n",
    "                 'TakerBuyQuoteAssetVolume', 'Ignore']"
   ]
  },
  {
   "cell_type": "code",
   "execution_count": 5,
   "metadata": {},
   "outputs": [],
   "source": [
    "ethbtc_klines_df = pd.DataFrame(ethbtc_klines, columns=kline_columns)"
   ]
  },
  {
   "cell_type": "code",
   "execution_count": 6,
   "metadata": {},
   "outputs": [
    {
     "data": {
      "text/plain": [
       "OpenTime                     int64\n",
       "Open                        object\n",
       "High                        object\n",
       "Low                         object\n",
       "Close                       object\n",
       "Volume                      object\n",
       "CloseTime                    int64\n",
       "QuoteAssetVolume            object\n",
       "NumberOfTrades               int64\n",
       "TakerBuyBaseAssetVolume     object\n",
       "TakerBuyQuoteAssetVolume    object\n",
       "Ignore                      object\n",
       "dtype: object"
      ]
     },
     "execution_count": 6,
     "metadata": {},
     "output_type": "execute_result"
    }
   ],
   "source": [
    "ethbtc_klines_df.dtypes"
   ]
  },
  {
   "cell_type": "code",
   "execution_count": 7,
   "metadata": {},
   "outputs": [],
   "source": [
    "ethbtc_klines_df['OpenTime'] = pd.to_datetime(ethbtc_klines_df['OpenTime'], unit='ms')\n",
    "ethbtc_klines_df['CloseTime'] = pd.to_datetime(ethbtc_klines_df['CloseTime'], unit='ms')"
   ]
  },
  {
   "cell_type": "code",
   "execution_count": 8,
   "metadata": {},
   "outputs": [],
   "source": [
    "float_columns = ['Open', 'High', 'Low', 'Close',\n",
    "                 'Volume', 'QuoteAssetVolume',\n",
    "                 'NumberOfTrades', 'TakerBuyBaseAssetVolume',\n",
    "                 'TakerBuyQuoteAssetVolume']"
   ]
  },
  {
   "cell_type": "code",
   "execution_count": 9,
   "metadata": {},
   "outputs": [],
   "source": [
    "ethbtc_klines_df[float_columns] = ethbtc_klines_df[float_columns].astype('float64')"
   ]
  },
  {
   "cell_type": "code",
   "execution_count": 10,
   "metadata": {},
   "outputs": [
    {
     "data": {
      "text/html": [
       "<div>\n",
       "<style scoped>\n",
       "    .dataframe tbody tr th:only-of-type {\n",
       "        vertical-align: middle;\n",
       "    }\n",
       "\n",
       "    .dataframe tbody tr th {\n",
       "        vertical-align: top;\n",
       "    }\n",
       "\n",
       "    .dataframe thead th {\n",
       "        text-align: right;\n",
       "    }\n",
       "</style>\n",
       "<table border=\"1\" class=\"dataframe\">\n",
       "  <thead>\n",
       "    <tr style=\"text-align: right;\">\n",
       "      <th></th>\n",
       "      <th>OpenTime</th>\n",
       "      <th>Open</th>\n",
       "      <th>High</th>\n",
       "      <th>Low</th>\n",
       "      <th>Close</th>\n",
       "      <th>Volume</th>\n",
       "      <th>CloseTime</th>\n",
       "      <th>QuoteAssetVolume</th>\n",
       "      <th>NumberOfTrades</th>\n",
       "      <th>TakerBuyBaseAssetVolume</th>\n",
       "      <th>TakerBuyQuoteAssetVolume</th>\n",
       "      <th>Ignore</th>\n",
       "    </tr>\n",
       "  </thead>\n",
       "  <tbody>\n",
       "    <tr>\n",
       "      <th>0</th>\n",
       "      <td>2018-05-16 19:00:00</td>\n",
       "      <td>0.084118</td>\n",
       "      <td>0.084399</td>\n",
       "      <td>0.084028</td>\n",
       "      <td>0.084323</td>\n",
       "      <td>2882.200</td>\n",
       "      <td>2018-05-16 19:59:59.999</td>\n",
       "      <td>242.604719</td>\n",
       "      <td>5255.0</td>\n",
       "      <td>1270.387</td>\n",
       "      <td>106.970321</td>\n",
       "      <td>0</td>\n",
       "    </tr>\n",
       "    <tr>\n",
       "      <th>1</th>\n",
       "      <td>2018-05-16 20:00:00</td>\n",
       "      <td>0.084322</td>\n",
       "      <td>0.084404</td>\n",
       "      <td>0.083901</td>\n",
       "      <td>0.083901</td>\n",
       "      <td>2903.853</td>\n",
       "      <td>2018-05-16 20:59:59.999</td>\n",
       "      <td>244.393919</td>\n",
       "      <td>4688.0</td>\n",
       "      <td>1567.074</td>\n",
       "      <td>131.895779</td>\n",
       "      <td>0</td>\n",
       "    </tr>\n",
       "    <tr>\n",
       "      <th>2</th>\n",
       "      <td>2018-05-16 21:00:00</td>\n",
       "      <td>0.084037</td>\n",
       "      <td>0.084178</td>\n",
       "      <td>0.083710</td>\n",
       "      <td>0.084084</td>\n",
       "      <td>2302.676</td>\n",
       "      <td>2018-05-16 21:59:59.999</td>\n",
       "      <td>193.222431</td>\n",
       "      <td>4139.0</td>\n",
       "      <td>1163.971</td>\n",
       "      <td>97.700989</td>\n",
       "      <td>0</td>\n",
       "    </tr>\n",
       "    <tr>\n",
       "      <th>3</th>\n",
       "      <td>2018-05-16 22:00:00</td>\n",
       "      <td>0.084038</td>\n",
       "      <td>0.084598</td>\n",
       "      <td>0.084036</td>\n",
       "      <td>0.084486</td>\n",
       "      <td>3043.545</td>\n",
       "      <td>2018-05-16 22:59:59.999</td>\n",
       "      <td>256.873609</td>\n",
       "      <td>4436.0</td>\n",
       "      <td>1534.161</td>\n",
       "      <td>129.476276</td>\n",
       "      <td>0</td>\n",
       "    </tr>\n",
       "    <tr>\n",
       "      <th>4</th>\n",
       "      <td>2018-05-16 23:00:00</td>\n",
       "      <td>0.084447</td>\n",
       "      <td>0.084731</td>\n",
       "      <td>0.084420</td>\n",
       "      <td>0.084699</td>\n",
       "      <td>3120.865</td>\n",
       "      <td>2018-05-16 23:59:59.999</td>\n",
       "      <td>264.015679</td>\n",
       "      <td>4113.0</td>\n",
       "      <td>1398.417</td>\n",
       "      <td>118.331313</td>\n",
       "      <td>0</td>\n",
       "    </tr>\n",
       "  </tbody>\n",
       "</table>\n",
       "</div>"
      ],
      "text/plain": [
       "             OpenTime      Open      High       Low     Close    Volume  \\\n",
       "0 2018-05-16 19:00:00  0.084118  0.084399  0.084028  0.084323  2882.200   \n",
       "1 2018-05-16 20:00:00  0.084322  0.084404  0.083901  0.083901  2903.853   \n",
       "2 2018-05-16 21:00:00  0.084037  0.084178  0.083710  0.084084  2302.676   \n",
       "3 2018-05-16 22:00:00  0.084038  0.084598  0.084036  0.084486  3043.545   \n",
       "4 2018-05-16 23:00:00  0.084447  0.084731  0.084420  0.084699  3120.865   \n",
       "\n",
       "                CloseTime  QuoteAssetVolume  NumberOfTrades  \\\n",
       "0 2018-05-16 19:59:59.999        242.604719          5255.0   \n",
       "1 2018-05-16 20:59:59.999        244.393919          4688.0   \n",
       "2 2018-05-16 21:59:59.999        193.222431          4139.0   \n",
       "3 2018-05-16 22:59:59.999        256.873609          4436.0   \n",
       "4 2018-05-16 23:59:59.999        264.015679          4113.0   \n",
       "\n",
       "   TakerBuyBaseAssetVolume  TakerBuyQuoteAssetVolume Ignore  \n",
       "0                 1270.387                106.970321      0  \n",
       "1                 1567.074                131.895779      0  \n",
       "2                 1163.971                 97.700989      0  \n",
       "3                 1534.161                129.476276      0  \n",
       "4                 1398.417                118.331313      0  "
      ]
     },
     "execution_count": 10,
     "metadata": {},
     "output_type": "execute_result"
    }
   ],
   "source": [
    "ethbtc_klines_df.head()"
   ]
  },
  {
   "cell_type": "code",
   "execution_count": 11,
   "metadata": {},
   "outputs": [],
   "source": [
    "prepared_dataset = ethbtc_klines_df.drop(['OpenTime', 'CloseTime', 'Ignore'], axis=1)"
   ]
  },
  {
   "cell_type": "code",
   "execution_count": 12,
   "metadata": {},
   "outputs": [
    {
     "data": {
      "text/html": [
       "<div>\n",
       "<style scoped>\n",
       "    .dataframe tbody tr th:only-of-type {\n",
       "        vertical-align: middle;\n",
       "    }\n",
       "\n",
       "    .dataframe tbody tr th {\n",
       "        vertical-align: top;\n",
       "    }\n",
       "\n",
       "    .dataframe thead th {\n",
       "        text-align: right;\n",
       "    }\n",
       "</style>\n",
       "<table border=\"1\" class=\"dataframe\">\n",
       "  <thead>\n",
       "    <tr style=\"text-align: right;\">\n",
       "      <th></th>\n",
       "      <th>Open</th>\n",
       "      <th>High</th>\n",
       "      <th>Low</th>\n",
       "      <th>Close</th>\n",
       "      <th>Volume</th>\n",
       "      <th>QuoteAssetVolume</th>\n",
       "      <th>NumberOfTrades</th>\n",
       "      <th>TakerBuyBaseAssetVolume</th>\n",
       "      <th>TakerBuyQuoteAssetVolume</th>\n",
       "    </tr>\n",
       "  </thead>\n",
       "  <tbody>\n",
       "    <tr>\n",
       "      <th>0</th>\n",
       "      <td>0.084118</td>\n",
       "      <td>0.084399</td>\n",
       "      <td>0.084028</td>\n",
       "      <td>0.084323</td>\n",
       "      <td>2882.200</td>\n",
       "      <td>242.604719</td>\n",
       "      <td>5255.0</td>\n",
       "      <td>1270.387</td>\n",
       "      <td>106.970321</td>\n",
       "    </tr>\n",
       "    <tr>\n",
       "      <th>1</th>\n",
       "      <td>0.084322</td>\n",
       "      <td>0.084404</td>\n",
       "      <td>0.083901</td>\n",
       "      <td>0.083901</td>\n",
       "      <td>2903.853</td>\n",
       "      <td>244.393919</td>\n",
       "      <td>4688.0</td>\n",
       "      <td>1567.074</td>\n",
       "      <td>131.895779</td>\n",
       "    </tr>\n",
       "    <tr>\n",
       "      <th>2</th>\n",
       "      <td>0.084037</td>\n",
       "      <td>0.084178</td>\n",
       "      <td>0.083710</td>\n",
       "      <td>0.084084</td>\n",
       "      <td>2302.676</td>\n",
       "      <td>193.222431</td>\n",
       "      <td>4139.0</td>\n",
       "      <td>1163.971</td>\n",
       "      <td>97.700989</td>\n",
       "    </tr>\n",
       "    <tr>\n",
       "      <th>3</th>\n",
       "      <td>0.084038</td>\n",
       "      <td>0.084598</td>\n",
       "      <td>0.084036</td>\n",
       "      <td>0.084486</td>\n",
       "      <td>3043.545</td>\n",
       "      <td>256.873609</td>\n",
       "      <td>4436.0</td>\n",
       "      <td>1534.161</td>\n",
       "      <td>129.476276</td>\n",
       "    </tr>\n",
       "    <tr>\n",
       "      <th>4</th>\n",
       "      <td>0.084447</td>\n",
       "      <td>0.084731</td>\n",
       "      <td>0.084420</td>\n",
       "      <td>0.084699</td>\n",
       "      <td>3120.865</td>\n",
       "      <td>264.015679</td>\n",
       "      <td>4113.0</td>\n",
       "      <td>1398.417</td>\n",
       "      <td>118.331313</td>\n",
       "    </tr>\n",
       "  </tbody>\n",
       "</table>\n",
       "</div>"
      ],
      "text/plain": [
       "       Open      High       Low     Close    Volume  QuoteAssetVolume  \\\n",
       "0  0.084118  0.084399  0.084028  0.084323  2882.200        242.604719   \n",
       "1  0.084322  0.084404  0.083901  0.083901  2903.853        244.393919   \n",
       "2  0.084037  0.084178  0.083710  0.084084  2302.676        193.222431   \n",
       "3  0.084038  0.084598  0.084036  0.084486  3043.545        256.873609   \n",
       "4  0.084447  0.084731  0.084420  0.084699  3120.865        264.015679   \n",
       "\n",
       "   NumberOfTrades  TakerBuyBaseAssetVolume  TakerBuyQuoteAssetVolume  \n",
       "0          5255.0                 1270.387                106.970321  \n",
       "1          4688.0                 1567.074                131.895779  \n",
       "2          4139.0                 1163.971                 97.700989  \n",
       "3          4436.0                 1534.161                129.476276  \n",
       "4          4113.0                 1398.417                118.331313  "
      ]
     },
     "execution_count": 12,
     "metadata": {},
     "output_type": "execute_result"
    }
   ],
   "source": [
    "prepared_dataset.head()"
   ]
  },
  {
   "cell_type": "markdown",
   "metadata": {},
   "source": [
    "# Prepare Labels"
   ]
  },
  {
   "cell_type": "code",
   "execution_count": 13,
   "metadata": {},
   "outputs": [],
   "source": [
    "prepared_labels = prepared_dataset['Close'] < prepared_dataset['Close'].shift(-1)"
   ]
  },
  {
   "cell_type": "code",
   "execution_count": 14,
   "metadata": {},
   "outputs": [],
   "source": [
    "prepared_dataset.drop(prepared_dataset.index[-1], inplace=True)"
   ]
  },
  {
   "cell_type": "code",
   "execution_count": 15,
   "metadata": {},
   "outputs": [],
   "source": [
    "prepared_labels.drop(prepared_labels.index[-1], inplace=True)"
   ]
  },
  {
   "cell_type": "code",
   "execution_count": 16,
   "metadata": {
    "scrolled": true
   },
   "outputs": [
    {
     "data": {
      "text/plain": [
       "count      2391\n",
       "unique        2\n",
       "top       False\n",
       "freq       1264\n",
       "Name: Close, dtype: object"
      ]
     },
     "execution_count": 16,
     "metadata": {},
     "output_type": "execute_result"
    }
   ],
   "source": [
    "prepared_labels.describe()"
   ]
  },
  {
   "cell_type": "code",
   "execution_count": 17,
   "metadata": {},
   "outputs": [
    {
     "name": "stdout",
     "output_type": "stream",
     "text": [
      "(2391, 9) (2391,)\n"
     ]
    }
   ],
   "source": [
    "print(prepared_dataset.shape, prepared_labels.shape)"
   ]
  },
  {
   "cell_type": "markdown",
   "metadata": {},
   "source": [
    "# Split Data"
   ]
  },
  {
   "cell_type": "code",
   "execution_count": 18,
   "metadata": {},
   "outputs": [],
   "source": [
    "test_size = int(prepared_dataset.shape[0] * .8)"
   ]
  },
  {
   "cell_type": "code",
   "execution_count": 19,
   "metadata": {},
   "outputs": [
    {
     "name": "stdout",
     "output_type": "stream",
     "text": [
      "1912\n"
     ]
    }
   ],
   "source": [
    "print(test_size)"
   ]
  },
  {
   "cell_type": "code",
   "execution_count": 20,
   "metadata": {},
   "outputs": [],
   "source": [
    "X_train, X_test = prepared_dataset.iloc[:test_size], prepared_dataset.iloc[test_size:]\n",
    "y_train, y_test = prepared_labels.iloc[:test_size], prepared_labels.iloc[test_size:]"
   ]
  },
  {
   "cell_type": "code",
   "execution_count": 21,
   "metadata": {},
   "outputs": [
    {
     "name": "stdout",
     "output_type": "stream",
     "text": [
      "(1912, 9) (479, 9) (1912,) (479,)\n"
     ]
    }
   ],
   "source": [
    "print(X_train.shape, X_test.shape, y_train.shape, y_test.shape)"
   ]
  },
  {
   "cell_type": "markdown",
   "metadata": {},
   "source": [
    "# Scale Train and Test Data"
   ]
  },
  {
   "cell_type": "code",
   "execution_count": 22,
   "metadata": {},
   "outputs": [],
   "source": [
    "scaler = MinMaxScaler()\n",
    "X_train = scaler.fit_transform(X_train)\n",
    "X_test = scaler.transform(X_test)"
   ]
  },
  {
   "cell_type": "markdown",
   "metadata": {},
   "source": [
    "# Train Logistic Regression Classifier"
   ]
  },
  {
   "cell_type": "code",
   "execution_count": 23,
   "metadata": {},
   "outputs": [
    {
     "data": {
      "text/plain": [
       "LogisticRegression(C=1.0, class_weight=None, dual=False, fit_intercept=True,\n",
       "          intercept_scaling=1, max_iter=100, multi_class='ovr', n_jobs=1,\n",
       "          penalty='l2', random_state=None, solver='liblinear', tol=0.0001,\n",
       "          verbose=0, warm_start=False)"
      ]
     },
     "execution_count": 23,
     "metadata": {},
     "output_type": "execute_result"
    }
   ],
   "source": [
    "clf_logr = LogisticRegression()\n",
    "clf_logr.fit(X_train, y_train)"
   ]
  },
  {
   "cell_type": "code",
   "execution_count": 24,
   "metadata": {},
   "outputs": [
    {
     "name": "stdout",
     "output_type": "stream",
     "text": [
      "0.5031315240083507\n"
     ]
    }
   ],
   "source": [
    "score = clf_logr.score(X_test, y_test)\n",
    "print(score)"
   ]
  },
  {
   "cell_type": "code",
   "execution_count": 25,
   "metadata": {},
   "outputs": [
    {
     "data": {
      "text/plain": [
       "count       479\n",
       "unique        2\n",
       "top       False\n",
       "freq        262\n",
       "Name: Close, dtype: object"
      ]
     },
     "execution_count": 25,
     "metadata": {},
     "output_type": "execute_result"
    }
   ],
   "source": [
    "y_test.describe()"
   ]
  },
  {
   "cell_type": "markdown",
   "metadata": {},
   "source": [
    "# Grab most recent data from Binance"
   ]
  },
  {
   "cell_type": "code",
   "execution_count": 26,
   "metadata": {},
   "outputs": [],
   "source": [
    "ethbtc_klines_new_data = client.get_historical_klines('ETHBTC', Client.KLINE_INTERVAL_1HOUR, \"1 HOUR ago UTC\")"
   ]
  },
  {
   "cell_type": "code",
   "execution_count": 27,
   "metadata": {},
   "outputs": [],
   "source": [
    "ethbtc_klines_new_data_df = pd.DataFrame(ethbtc_klines_new_data, columns=kline_columns)"
   ]
  },
  {
   "cell_type": "code",
   "execution_count": 28,
   "metadata": {},
   "outputs": [],
   "source": [
    "ethbtc_klines_new_data_df[float_columns] = ethbtc_klines_new_data_df[float_columns].astype('float64')\n",
    "prepared_dataset_real_time = ethbtc_klines_new_data_df.drop(['OpenTime', 'CloseTime', 'Ignore'], axis=1)\n",
    "eth_real_time_data = scaler.transform(prepared_dataset_real_time)"
   ]
  },
  {
   "cell_type": "markdown",
   "metadata": {},
   "source": [
    "# Make Prediction in Real Time"
   ]
  },
  {
   "cell_type": "code",
   "execution_count": 29,
   "metadata": {},
   "outputs": [],
   "source": [
    "predictions = clf_logr.predict_proba(eth_real_time_data)"
   ]
  },
  {
   "cell_type": "markdown",
   "metadata": {},
   "source": [
    "# Get Probability of Loss/Gain"
   ]
  },
  {
   "cell_type": "code",
   "execution_count": 30,
   "metadata": {},
   "outputs": [
    {
     "name": "stdout",
     "output_type": "stream",
     "text": [
      "[[0.46529981 0.53470019]]\n"
     ]
    }
   ],
   "source": [
    "print(predictions)"
   ]
  },
  {
   "cell_type": "code",
   "execution_count": 36,
   "metadata": {},
   "outputs": [
    {
     "name": "stdout",
     "output_type": "stream",
     "text": [
      "False is most frequent at 54.70 %\n"
     ]
    }
   ],
   "source": [
    "most_frequent = y_test.describe()['freq'] / y_test.describe()['count']\n",
    "print(y_test.describe()['top'], \"is most frequent at\", format(most_frequent * 100, '.2f'), \"%\")"
   ]
  },
  {
   "cell_type": "code",
   "execution_count": 38,
   "metadata": {},
   "outputs": [],
   "source": [
    "score_vs_frequent = score - most_frequent"
   ]
  },
  {
   "cell_type": "code",
   "execution_count": 39,
   "metadata": {},
   "outputs": [
    {
     "data": {
      "text/plain": [
       "-0.04384133611691021"
      ]
     },
     "execution_count": 39,
     "metadata": {},
     "output_type": "execute_result"
    }
   ],
   "source": [
    "score_vs_frequent"
   ]
  },
  {
   "cell_type": "code",
   "execution_count": null,
   "metadata": {},
   "outputs": [],
   "source": []
  }
 ],
 "metadata": {
  "kernelspec": {
   "display_name": "Python 3",
   "language": "python",
   "name": "python3"
  },
  "language_info": {
   "codemirror_mode": {
    "name": "ipython",
    "version": 3
   },
   "file_extension": ".py",
   "mimetype": "text/x-python",
   "name": "python",
   "nbconvert_exporter": "python",
   "pygments_lexer": "ipython3",
   "version": "3.6.4"
  }
 },
 "nbformat": 4,
 "nbformat_minor": 2
}
